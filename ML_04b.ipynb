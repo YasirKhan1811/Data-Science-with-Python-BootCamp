{
 "cells": [
  {
   "cell_type": "markdown",
   "metadata": {},
   "source": [
    "# Accuracy Measures of Regression Models"
   ]
  },
  {
   "cell_type": "markdown",
   "metadata": {},
   "source": [
    "There are three most common metrics for avaluating the performance of Regression Models, which are:\n",
    "\n",
    "1. Mean Squared Error (MSE)\n",
    "    - It is the average of the squared differences between the predicted values and the corresponding expected values.\n",
    "    \n",
    "    ![QR](mse.png)\n",
    "\n",
    "    - A perfect mean squared error returns 0, which means that the predicted outcomes are exactly same as expected.\n",
    "    - Following is the demonstration to find the Mean Squared Error of a Model:"
   ]
  },
  {
   "cell_type": "code",
   "execution_count": 2,
   "metadata": {},
   "outputs": [
    {
     "name": "stdout",
     "output_type": "stream",
     "text": [
      "0.35000000000000003\n"
     ]
    }
   ],
   "source": [
    "# example to find the mean squared error\n",
    "from sklearn.metrics import mean_squared_error\n",
    "\n",
    "# real value\n",
    "expected = [1.0, 1.0, 1.0, 1.0, 1.0, 1.0, 1.0, 1.0, 1.0, 1.0, 1.0]\n",
    "\n",
    "# predicted value\n",
    "predicted = [1.0, 0.9, 0.8, 0.7, 0.6, 0.5, 0.4, 0.3, 0.2, 0.1, 0.0]\n",
    "\n",
    "# calculate errors\n",
    "mse = mean_squared_error(expected, predicted)\n",
    "\n",
    "# report error\n",
    "print(mse)"
   ]
  },
  {
   "cell_type": "markdown",
   "metadata": {},
   "source": [
    "2. Root Mean Squared Error (RMSE)\n",
    "    \n",
    "    - It is the square root of Mean Squared Error. \n",
    "    - The root-mean-square deviation (RMSD) or root-mean-square error (RMSE) is a frequently used measure of the differences between values (sample or population values) predicted by a model or an estimator and the values observed.\n",
    "    - RMSD is always non-negative, and a value of 0 (almost never achieved in practice) would indicate a perfect fit to the data. In general, a lower RMSD is better than a higher one. \n",
    "    - In bioinformatics, the root-mean-square deviation of atomic positions is the measure of the average distance between the atoms of superimposed proteins.\n",
    "    - Formular for RMSE is:\n",
    "\n",
    "    ![QR](rmse.png)\n",
    "\n",
    "    \n",
    "\n"
   ]
  },
  {
   "cell_type": "code",
   "execution_count": 3,
   "metadata": {},
   "outputs": [
    {
     "name": "stdout",
     "output_type": "stream",
     "text": [
      "0.5916079783099616\n"
     ]
    }
   ],
   "source": [
    "# example of calculate the root mean squared error\n",
    "from sklearn.metrics import mean_squared_error\n",
    "\n",
    "# real value\n",
    "expected = [1.0, 1.0, 1.0, 1.0, 1.0, 1.0, 1.0, 1.0, 1.0, 1.0, 1.0]\n",
    "\n",
    "# predicted value\n",
    "predicted = [1.0, 0.9, 0.8, 0.7, 0.6, 0.5, 0.4, 0.3, 0.2, 0.1, 0.0]\n",
    "\n",
    "# calculate errors\n",
    "import math\n",
    "rmse = math.sqrt(mse)\n",
    "\n",
    "# report error\n",
    "print(rmse)"
   ]
  },
  {
   "cell_type": "markdown",
   "metadata": {},
   "source": [
    "3. Mean Absolute Error (MAE)\n",
    "\n",
    "    - It is the average of absolute difference of the expected output and the predicted output\n",
    "    - This error has the same units as the measure of the variable\n",
    "    - The mean absolute error is a common measure of forecast error in time series analysis\n",
    "    - Mathematical formula for MAE:\n",
    "\n",
    "    ![QR](mae.png)\n"
   ]
  },
  {
   "cell_type": "code",
   "execution_count": 4,
   "metadata": {},
   "outputs": [
    {
     "name": "stdout",
     "output_type": "stream",
     "text": [
      "0.5\n"
     ]
    }
   ],
   "source": [
    "# example of calculate the mean absolute error\n",
    "from sklearn.metrics import mean_absolute_error\n",
    "\n",
    "# real value\n",
    "expected = [1.0, 1.0, 1.0, 1.0, 1.0, 1.0, 1.0, 1.0, 1.0, 1.0, 1.0]\n",
    "\n",
    "# predicted value\n",
    "predicted = [1.0, 0.9, 0.8, 0.7, 0.6, 0.5, 0.4, 0.3, 0.2, 0.1, 0.0]\n",
    "\n",
    "# calculate errors\n",
    "MAE = mean_absolute_error(expected, predicted)\n",
    "\n",
    "# report error\n",
    "print(MAE)"
   ]
  },
  {
   "cell_type": "markdown",
   "metadata": {},
   "source": [
    "References:\n",
    "\n",
    "- https://machinelearningmastery.com/regression-metrics-for-machine-learning/"
   ]
  }
 ],
 "metadata": {
  "interpreter": {
   "hash": "e3ad0b27cf0c33e75f2d5112b32dacd0aa71a70eaca7c297f5a11ac37e2a9f4e"
  },
  "kernelspec": {
   "display_name": "Python 3.10.1 64-bit",
   "language": "python",
   "name": "python3"
  },
  "language_info": {
   "codemirror_mode": {
    "name": "ipython",
    "version": 3
   },
   "file_extension": ".py",
   "mimetype": "text/x-python",
   "name": "python",
   "nbconvert_exporter": "python",
   "pygments_lexer": "ipython3",
   "version": "3.10.1"
  },
  "orig_nbformat": 4
 },
 "nbformat": 4,
 "nbformat_minor": 2
}
