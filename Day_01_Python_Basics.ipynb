{
 "cells": [
  {
   "cell_type": "markdown",
   "metadata": {},
    "## How to use Jupyter Notebook\n",
    "## Basics of Python"
   ]
  },
  {
   "cell_type": "markdown",
   "metadata": {},
   "source": [
    "**1. First Program**"
   ]
  },
  {
   "cell_type": "code",
   "execution_count": 1,
   "metadata": {},
   "outputs": [
    {
     "name": "stdout",
     "output_type": "stream",
     "text": [
      "We are learning Python with Aammar in the Codanics youtube channel.\n",
      "5\n",
      "Hello World\n"
     ]
    }
   ],
   "source": [
    "print(\"We are learning Python with Aammar in the Codanics youtube channel.\")\n",
    "print(2+3)\n",
    "print(\"Hello World\")"
   ]
  },
  {
   "cell_type": "markdown",
   "metadata": {},
   "source": [
    "**2. Operators**\n",
    "\n",
    "PEMDAS - Parenthesis Exponent Multiply Divide Addition Subtraction\n",
    "\n",
    "From left to right: M > D and A > S"
   ]
  },
  {
   "cell_type": "code",
   "execution_count": 2,
   "metadata": {},
   "outputs": [
    {
     "name": "stdout",
     "output_type": "stream",
     "text": [
      "30.0\n"
     ]
    }
   ],
   "source": [
    "print((2+1)**3-1*6/2+9-3)"
   ]
  },
  {
   "cell_type": "markdown",
   "metadata": {},
   "source": [
    "This is how it will execute:\n",
    "\n",
    "3**3-1*6/2+9-3\n",
    "= 27-1*6/2+9-3\n",
    "= 27-6/2+9-3\n",
    "= 33-3\n",
    "= 30"
   ]
  },
  {
   "cell_type": "markdown",
   "metadata": {},
   "source": [
    "**3. Strings**"
   ]
  },
  {
   "cell_type": "code",
   "execution_count": 3,
   "metadata": {},
   "outputs": [
    {
     "name": "stdout",
     "output_type": "stream",
     "text": [
      "Hello World\n",
      "We are learning Python with Aammar\n",
      "Test for single qoutes\n",
      "test for double qoutes\n",
      " test for triple qoutes\n",
      "what's up\n"
     ]
    }
   ],
   "source": [
    "print(\"Hello World\")\n",
    "print(\"We are learning Python with Aammar\")\n",
    "print('Test for single qoutes')\n",
    "print(\"test for double qoutes\")\n",
    "print(''' test for triple qoutes''')\n",
    "print(\"what's up\")"
   ]
  },
  {
   "cell_type": "markdown",
   "metadata": {},
   "source": [
    "**4. Comments**"
   ]
  },
  {
   "cell_type": "code",
   "execution_count": 5,
   "metadata": {},
   "outputs": [
    {
     "name": "stdout",
     "output_type": "stream",
     "text": [
      "How are you?\n",
      "5\n"
     ]
    }
   ],
   "source": [
    "print(\"How are you?\") # To print a string\n",
    "print(2+3) # To print a result of an operator"
   ]
  },
  {
   "cell_type": "markdown",
   "metadata": {},
   "source": [
    "**5. Variables: objects containing specific values**"
   ]
  },
  {
   "cell_type": "code",
   "execution_count": 6,
   "metadata": {},
   "outputs": [
    {
     "name": "stdout",
     "output_type": "stream",
     "text": [
      "5\n",
      "we are learning python with Aammar\n",
      "<class 'int'>\n",
      "<class 'str'>\n",
      "8\n",
      "Mangoes\n",
      "<class 'str'>\n"
     ]
    }
   ],
   "source": [
    "x = 5 # numeric or integer variable\n",
    "print(x)\n",
    "\n",
    "y = \"we are learning python with Aammar\" # string variable\n",
    "print(y)\n",
    "\n",
    "x = x + 10\n",
    "print(type(x))\n",
    "print(type(y))\n",
    "\n",
    "fruit_basket =  8\n",
    "print(fruit_basket)\n",
    "fruit_basket = \"Mangoes\"\n",
    "print(fruit_basket)\n",
    "print(type(fruit_basket))"
   ]
  },
  {
   "cell_type": "markdown",
   "metadata": {},
   "source": [
    "Rules to assign a variable:\n",
    "\n",
    "1. The variable should contain letters, numbers, or underscore\n",
    "2. Do not start with numbers \n",
    "3. Spaces are not allowed\n",
    "4. Do not use keywords used in functions (break, mean, media, test etc.)\n",
    "5. Short and descriptive\n",
    "6. Case sensitivity (lowercase, uppercase letters, only lowercase letters should be used)"
   ]
  },
  {
   "cell_type": "markdown",
   "metadata": {},
   "source": [
    "**6. Input Functions**"
   ]
  },
  {
   "cell_type": "code",
   "execution_count": 7,
   "metadata": {},
   "outputs": [
    {
     "name": "stdout",
     "output_type": "stream",
     "text": [
      "Mangoes\n",
      "Mangoes\n"
     ]
    }
   ],
   "source": [
    "fruit_basket = \"Mangoes\"\n",
    "print(fruit_basket)\n",
    "\n",
    "fruit_basket = input(\"What is your favorite fruit? \")\n",
    "print(fruit_basket)"
   ]
  },
  {
   "cell_type": "code",
   "execution_count": 8,
   "metadata": {},
   "outputs": [
    {
     "name": "stdout",
     "output_type": "stream",
     "text": [
      "Hello! Yasir\n"
     ]
    }
   ],
   "source": [
    "# input function of second stage\n",
    "name = input(\"What is your name? \")\n",
    "greetings = \"Hello!\"\n",
    "print(greetings, name)"
   ]
  },
  {
   "cell_type": "code",
   "execution_count": 9,
   "metadata": {},
   "outputs": [
    {
     "name": "stdout",
     "output_type": "stream",
     "text": [
      "Hello! Yasir\n"
     ]
    }
   ],
   "source": [
    "# Another way of stage 02 input function\n",
    "name = input(\"What is your name? \")\n",
    "print(\"Hello!\", name)"
   ]
  },
  {
   "cell_type": "code",
   "execution_count": 10,
   "metadata": {},
   "outputs": [],
   "source": [
    "# 3rd stage input function\n",
    "name = input(\"What is your name? \")\n",
    "age = input(\"How old are you? \")\n",
    "print(\"Hello!\", name, \",\", \" \" \"You are still young.\")"
   ]
  },
  {
   "cell_type": "markdown",
   "metadata": {},
   "source": [
    "**7. Conditional Logics**"
   ]
  },
  {
   "cell_type": "markdown",
   "metadata": {},
   "source": [
    "- Logical operators are either “True or False”, “Yes or No”, or “0 or 1”\n",
    "- equal to (comparison operator) ==\n",
    "- not equal to !=\n",
    "- less than <\n",
    "- greater than >\n",
    "- less than or equal to <=\n",
    "- greater than or equal to >="
   ]
  },
  {
   "cell_type": "code",
   "execution_count": 1,
   "metadata": {},
   "outputs": [
    {
     "name": "stdout",
     "output_type": "stream",
     "text": [
      "True\n",
      "False\n",
      "True\n",
      "False\n",
      "True\n"
     ]
    }
   ],
   "source": [
    "print(4==4)\n",
    "print(4!=4)\n",
    "print(4>3)\n",
    "print(3>6)\n",
    "print(4>=4)"
   ]
  },
  {
   "cell_type": "code",
   "execution_count": 2,
   "metadata": {},
   "outputs": [
    {
     "name": "stdout",
     "output_type": "stream",
     "text": [
      "False\n"
     ]
    }
   ],
   "source": [
    "# Application of logical operator\n",
    "hammad_age = 4\n",
    "age_at_school = 5\n",
    "print(hammad_age==age_at_school)"
   ]
  },
  {
   "cell_type": "code",
   "execution_count": 3,
   "metadata": {},
   "outputs": [
    {
     "name": "stdout",
     "output_type": "stream",
     "text": [
      "True\n"
     ]
    }
   ],
   "source": [
    "# input function and logical operator\n",
    "age_at_school = 5\n",
    "hammad_age = input(\"How old is hammad? \")\n",
    "hammad_age = int(hammad_age)\n",
    "print(hammad_age==age_at_school)"
   ]
  },
  {
   "cell_type": "markdown",
   "metadata": {},
   "source": [
    "**8. Type Conversion**"
   ]
  },
  {
   "cell_type": "code",
   "execution_count": 4,
   "metadata": {},
   "outputs": [],
   "source": [
    "x = 10 # integer\n",
    "y = 10.2 # float\n",
    "z = \"Hello World!\" # string"
   ]
  },
  {
   "cell_type": "code",
   "execution_count": 5,
   "metadata": {},
   "outputs": [
    {
     "name": "stdout",
     "output_type": "stream",
     "text": [
      "Value of x is: 102.0 and Type of x is: <class 'float'>\n"
     ]
    }
   ],
   "source": [
    "# implicit type conversion\n",
    "x = x*y\n",
    "print(\"Value of x is:\", x, \"and\", \"Type of x is:\", type(x))"
   ]
  },
  {
   "cell_type": "code",
   "execution_count": 6,
   "metadata": {},
   "outputs": [
    {
     "name": "stdout",
     "output_type": "stream",
     "text": [
      "My age is: 27 and its type is: <class 'int'>\n"
     ]
    }
   ],
   "source": [
    "# explicit type conversion\n",
    "age = input(\"What is your age? \")\n",
    "print(\"My age is:\", age, \"and its type is:\", type(int(age)))"
   ]
  },
  {
   "cell_type": "code",
   "execution_count": 7,
   "metadata": {},
   "outputs": [
    {
     "name": "stdout",
     "output_type": "stream",
     "text": [
      "My name is: Yasir Khan , and its type is: <class 'str'>\n"
     ]
    }
   ],
   "source": [
    "name = input(\"what is your name? \")\n",
    "print(\"My name is:\", name, \",\", \"and its type is:\", type(str(name)))"
   ]
  },
  {
   "cell_type": "markdown",
   "metadata": {},
   "source": [
    "**9. If, Else, and Elif Statements**"
   ]
  },
  {
   "cell_type": "code",
   "execution_count": 8,
   "metadata": {},
   "outputs": [
    {
     "name": "stdout",
     "output_type": "stream",
     "text": [
      "Your kid is yet a baby, please take good care of him.\n"
     ]
    }
   ],
   "source": [
    "age_of_kid = 1\n",
    "age_to_join_school = 5\n",
    "\n",
    "if age_of_kid == age_to_join_school:\n",
    "    print(\"Congratulations! your kid can join the school.\")\n",
    "elif age_of_kid > age_to_join_school and age_of_kid <= 12:\n",
    "    print(\"Your kid should admit in high school.\")\n",
    "elif age_of_kid < age_to_join_school:\n",
    "    print(\"Your kid is yet a baby, please take good care of him.\")\n",
    "else:\n",
    "    print(\"Your kid should admit in college.\")"
   ]
  },
  {
   "cell_type": "markdown",
   "metadata": {},
   "source": [
    "**10. Functions**"
   ]
  },
  {
   "cell_type": "code",
   "execution_count": 11,
   "metadata": {},
   "outputs": [
    {
     "name": "stdout",
     "output_type": "stream",
     "text": [
      "We are learning python with Aammar.\n",
      "We are learning python with Aammar.\n",
      "We are learning python with Aammar.\n"
     ]
    }
   ],
   "source": [
    "# defining a function\n",
    "# 1\n",
    "def print_codanics():\n",
    "    print(\"We are learning python with Aammar.\")\n",
    "    print(\"We are learning python with Aammar.\")\n",
    "    print(\"We are learning python with Aammar.\")\n",
    "print_codanics()"
   ]
  },
  {
   "cell_type": "code",
   "execution_count": 12,
   "metadata": {},
   "outputs": [
    {
     "name": "stdout",
     "output_type": "stream",
     "text": [
      "We are learning python with Aammar in codanics youtube channel.\n",
      "We are learning python with Aammar in codanics youtube channel.\n",
      "We are learning python with Aammar in codanics youtube channel.\n"
     ]
    }
   ],
   "source": [
    "# 3\n",
    "def print_codanics(text):\n",
    "    print(text)\n",
    "    print(text)\n",
    "    print(text)\n",
    "print_codanics(\"We are learning python with Aammar in codanics youtube channel.\")"
   ]
  },
  {
   "cell_type": "code",
   "execution_count": 13,
   "metadata": {},
   "outputs": [
    {
     "name": "stdout",
     "output_type": "stream",
     "text": [
      "Your son is yet a baby, so he is not eligible to join the school.\n"
     ]
    }
   ],
   "source": [
    "# 4 - Defining a function with if, elif, and else statements\n",
    "\n",
    "def school_calculator(age):\n",
    "    if age == 5:\n",
    "        print(\"Congratulations! your son is eligible to join the school.\")\n",
    "    elif age > 5:\n",
    "        print(\"Your son should join a higher school.\")\n",
    "    else:\n",
    "        print(\"Your son is yet a baby, so he is not eligible to join the school.\")\n",
    "\n",
    "school_calculator(3)"
   ]
  },
  {
   "cell_type": "code",
   "execution_count": 14,
   "metadata": {},
   "outputs": [
    {
     "name": "stdout",
     "output_type": "stream",
     "text": [
      "His age after 20 years will be: 38\n"
     ]
    }
   ],
   "source": [
    "# 5 - defining a function of future\n",
    "\n",
    "def future_age(age):\n",
    "    new_age = age + 20\n",
    "    return new_age\n",
    "\n",
    "future_predicted_age = future_age(18)\n",
    "print(\"His age after 20 years will be:\", future_predicted_age)"
   ]
  },
  {
   "cell_type": "markdown",
   "metadata": {},
   "source": [
    "**11. while and for loops**"
   ]
  },
  {
   "cell_type": "code",
   "execution_count": 15,
   "metadata": {},
   "outputs": [
    {
     "name": "stdout",
     "output_type": "stream",
     "text": [
      "0\n",
      "1\n",
      "2\n",
      "3\n",
      "4\n",
      "5\n"
     ]
    }
   ],
   "source": [
    " # while loop\n",
    "x = 0\n",
    "while (x<=5):\n",
    "    print(x)\n",
    "    x=x+1"
   ]
  },
  {
   "cell_type": "code",
   "execution_count": 16,
   "metadata": {},
   "outputs": [
    {
     "name": "stdout",
     "output_type": "stream",
     "text": [
      "4\n",
      "5\n",
      "6\n",
      "7\n",
      "8\n",
      "9\n",
      "10\n"
     ]
    }
   ],
   "source": [
    "# for loop\n",
    "for x in range(4, 11):\n",
    "    print(x)"
   ]
  },
  {
   "cell_type": "code",
   "execution_count": 21,
   "metadata": {},
   "outputs": [
    {
     "name": "stdout",
     "output_type": "stream",
     "text": [
      "Mon\n",
      "Tue\n",
      "Wed\n"
     ]
    }
   ],
   "source": [
    "# array\n",
    "days = [\"Mon\", \"Tue\", \"Wed\", \"Thu\", \"Fri\", \"Sat\",\"Sun\"]\n",
    "for d in days:\n",
    "    if d == \"Thu\":\n",
    "        break\n",
    "    print(d)"
   ]
  },
  {
   "cell_type": "code",
   "execution_count": 20,
   "metadata": {},
   "outputs": [
    {
     "name": "stdout",
     "output_type": "stream",
     "text": [
      "Mon\n",
      "Tue\n",
      "Wed\n",
      "Fri\n",
      "Sat\n",
      "Sun\n"
     ]
    }
   ],
   "source": [
    "# array\n",
    "days = [\"Mon\", \"Tue\", \"Wed\", \"Thu\", \"Fri\", \"Sat\",\"Sun\"]\n",
    "for d in days:\n",
    "    if d == \"Thu\":\n",
    "        continue\n",
    "    print(d)"
   ]
  },
  {
   "cell_type": "markdown",
   "metadata": {},
   "source": [
    "**12. Import Libraries**"
   ]
  },
  {
   "cell_type": "code",
   "execution_count": 22,
   "metadata": {},
   "outputs": [
    {
     "name": "stdout",
     "output_type": "stream",
     "text": [
      "The value of pi is 3.141592653589793\n",
      "Mean of x is 300\n"
     ]
    }
   ],
   "source": [
    " # if you want to print the value of pi\n",
    "import math\n",
    "print(\"The value of pi is\", math.pi)\n",
    "import statistics\n",
    "x = [150, 250, 350, 450]\n",
    "print(\"Mean of x is\", statistics.mean(x))"
   ]
  },
  {
   "cell_type": "markdown",
   "metadata": {},
   "source": [
    "**13. Troubleshooting**"
   ]
  },
  {
   "cell_type": "code",
   "execution_count": 23,
   "metadata": {},
   "outputs": [
    {
     "ename": "SyntaxError",
     "evalue": "invalid syntax (Temp/ipykernel_13016/2613636931.py, line 1)",
     "output_type": "error",
     "traceback": [
      "\u001b[1;36m  File \u001b[1;32m\"C:\\Users\\scs\\AppData\\Local\\Temp/ipykernel_13016/2613636931.py\"\u001b[1;36m, line \u001b[1;32m1\u001b[0m\n\u001b[1;33m    print(We are learning python with Aammar) # syntax error\u001b[0m\n\u001b[1;37m             ^\u001b[0m\n\u001b[1;31mSyntaxError\u001b[0m\u001b[1;31m:\u001b[0m invalid syntax\n"
     ]
    }
   ],
   "source": [
    "print(We are learning python with Aammar) # syntax error"
   ]
  },
  {
   "cell_type": "markdown",
   "metadata": {},
   "source": [
    "Correct is:"
   ]
  },
  {
   "cell_type": "code",
   "execution_count": 24,
   "metadata": {},
   "outputs": [
    {
     "name": "stdout",
     "output_type": "stream",
     "text": [
      "We are learning python with Aammar\n"
     ]
    }
   ],
   "source": [
    "print(\"We are learning python with Aammar\")"
   ]
  },
  {
   "cell_type": "code",
   "execution_count": 25,
   "metadata": {},
   "outputs": [
    {
     "ename": "ZeroDivisionError",
     "evalue": "division by zero",
     "output_type": "error",
     "traceback": [
      "\u001b[1;31m---------------------------------------------------------------------------\u001b[0m",
      "\u001b[1;31mZeroDivisionError\u001b[0m                         Traceback (most recent call last)",
      "\u001b[1;32m~\\AppData\\Local\\Temp/ipykernel_13016/2674900976.py\u001b[0m in \u001b[0;36m<module>\u001b[1;34m\u001b[0m\n\u001b[1;32m----> 1\u001b[1;33m \u001b[0mprint\u001b[0m\u001b[1;33m(\u001b[0m\u001b[1;36m25\u001b[0m\u001b[1;33m/\u001b[0m\u001b[1;36m0\u001b[0m\u001b[1;33m)\u001b[0m \u001b[1;31m#runtime error\u001b[0m\u001b[1;33m\u001b[0m\u001b[1;33m\u001b[0m\u001b[0m\n\u001b[0m",
      "\u001b[1;31mZeroDivisionError\u001b[0m: division by zero"
     ]
    }
   ],
   "source": [
    "print(25/0) #runtime error"
   ]
  }
 ],
 "metadata": {
  "interpreter": {
   "hash": "e3ad0b27cf0c33e75f2d5112b32dacd0aa71a70eaca7c297f5a11ac37e2a9f4e"
  },
  "kernelspec": {
   "display_name": "Python 3.10.1 64-bit",
   "language": "python",
   "name": "python3"
  },
  "language_info": {
   "codemirror_mode": {
    "name": "ipython",
    "version": 3
   },
   "file_extension": ".py",
   "mimetype": "text/x-python",
   "name": "python",
   "nbconvert_exporter": "python",
   "pygments_lexer": "ipython3",
   "version": "3.9.7"
  },
  "orig_nbformat": 4
 },
 "nbformat": 4,
 "nbformat_minor": 2
}
